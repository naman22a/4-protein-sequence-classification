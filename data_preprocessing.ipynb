{
 "cells": [
  {
   "cell_type": "code",
   "execution_count": 1,
   "id": "c0867e64-e444-4e41-b8b0-9b6e1f9d5315",
   "metadata": {},
   "outputs": [],
   "source": [
    "import pandas as pd\n",
    "import numpy as np\n",
    "from matplotlib import pyplot as plt\n",
    "import seaborn as sns"
   ]
  },
  {
   "cell_type": "code",
   "execution_count": 2,
   "id": "aeb53b95-9225-48a8-b7b3-de8c1b5bf7fb",
   "metadata": {},
   "outputs": [],
   "source": [
    "df_seq = pd.read_csv('./data/pdb_data_seq.csv')\n",
    "df_char = pd.read_csv('./data/pdb_data_no_dups.csv')"
   ]
  },
  {
   "cell_type": "code",
   "execution_count": 3,
   "id": "b666269f-2bf8-4ee1-9737-f9e1d2484b2d",
   "metadata": {},
   "outputs": [],
   "source": [
    "protein_char = df_char[df_char.macromoleculeType == 'Protein']\n",
    "protein_seq = df_seq[df_seq.macromoleculeType == 'Protein']"
   ]
  },
  {
   "cell_type": "code",
   "execution_count": 4,
   "id": "1907e3f3-cbf5-4100-9344-1e4236594eda",
   "metadata": {},
   "outputs": [
    {
     "data": {
      "text/html": [
       "<div>\n",
       "<style scoped>\n",
       "    .dataframe tbody tr th:only-of-type {\n",
       "        vertical-align: middle;\n",
       "    }\n",
       "\n",
       "    .dataframe tbody tr th {\n",
       "        vertical-align: top;\n",
       "    }\n",
       "\n",
       "    .dataframe thead th {\n",
       "        text-align: right;\n",
       "    }\n",
       "</style>\n",
       "<table border=\"1\" class=\"dataframe\">\n",
       "  <thead>\n",
       "    <tr style=\"text-align: right;\">\n",
       "      <th></th>\n",
       "      <th>structureId</th>\n",
       "      <th>classification</th>\n",
       "      <th>experimentalTechnique</th>\n",
       "      <th>macromoleculeType</th>\n",
       "      <th>residueCount</th>\n",
       "      <th>resolution</th>\n",
       "      <th>structureMolecularWeight</th>\n",
       "      <th>crystallizationMethod</th>\n",
       "      <th>crystallizationTempK</th>\n",
       "      <th>densityMatthews</th>\n",
       "      <th>densityPercentSol</th>\n",
       "      <th>pdbxDetails</th>\n",
       "      <th>phValue</th>\n",
       "      <th>publicationYear</th>\n",
       "    </tr>\n",
       "  </thead>\n",
       "  <tbody>\n",
       "    <tr>\n",
       "      <th>2</th>\n",
       "      <td>101M</td>\n",
       "      <td>OXYGEN TRANSPORT</td>\n",
       "      <td>X-RAY DIFFRACTION</td>\n",
       "      <td>Protein</td>\n",
       "      <td>154</td>\n",
       "      <td>2.07</td>\n",
       "      <td>18112.80</td>\n",
       "      <td>NaN</td>\n",
       "      <td>NaN</td>\n",
       "      <td>3.09</td>\n",
       "      <td>60.20</td>\n",
       "      <td>3.0 M AMMONIUM SULFATE, 20 MM TRIS, 1MM EDTA, ...</td>\n",
       "      <td>9.0</td>\n",
       "      <td>1999.0</td>\n",
       "    </tr>\n",
       "    <tr>\n",
       "      <th>4</th>\n",
       "      <td>102L</td>\n",
       "      <td>HYDROLASE(O-GLYCOSYL)</td>\n",
       "      <td>X-RAY DIFFRACTION</td>\n",
       "      <td>Protein</td>\n",
       "      <td>165</td>\n",
       "      <td>1.74</td>\n",
       "      <td>18926.61</td>\n",
       "      <td>NaN</td>\n",
       "      <td>NaN</td>\n",
       "      <td>2.75</td>\n",
       "      <td>55.28</td>\n",
       "      <td>NaN</td>\n",
       "      <td>NaN</td>\n",
       "      <td>1993.0</td>\n",
       "    </tr>\n",
       "    <tr>\n",
       "      <th>5</th>\n",
       "      <td>102M</td>\n",
       "      <td>OXYGEN TRANSPORT</td>\n",
       "      <td>X-RAY DIFFRACTION</td>\n",
       "      <td>Protein</td>\n",
       "      <td>154</td>\n",
       "      <td>1.84</td>\n",
       "      <td>18010.64</td>\n",
       "      <td>NaN</td>\n",
       "      <td>NaN</td>\n",
       "      <td>3.09</td>\n",
       "      <td>60.20</td>\n",
       "      <td>3.0 M AMMONIUM SULFATE, 20 MM TRIS, 1MM EDTA, ...</td>\n",
       "      <td>9.0</td>\n",
       "      <td>1999.0</td>\n",
       "    </tr>\n",
       "    <tr>\n",
       "      <th>7</th>\n",
       "      <td>103L</td>\n",
       "      <td>HYDROLASE(O-GLYCOSYL)</td>\n",
       "      <td>X-RAY DIFFRACTION</td>\n",
       "      <td>Protein</td>\n",
       "      <td>167</td>\n",
       "      <td>1.90</td>\n",
       "      <td>19092.72</td>\n",
       "      <td>NaN</td>\n",
       "      <td>NaN</td>\n",
       "      <td>2.70</td>\n",
       "      <td>54.46</td>\n",
       "      <td>NaN</td>\n",
       "      <td>NaN</td>\n",
       "      <td>1993.0</td>\n",
       "    </tr>\n",
       "    <tr>\n",
       "      <th>8</th>\n",
       "      <td>103M</td>\n",
       "      <td>OXYGEN TRANSPORT</td>\n",
       "      <td>X-RAY DIFFRACTION</td>\n",
       "      <td>Protein</td>\n",
       "      <td>154</td>\n",
       "      <td>2.07</td>\n",
       "      <td>18093.78</td>\n",
       "      <td>NaN</td>\n",
       "      <td>NaN</td>\n",
       "      <td>3.09</td>\n",
       "      <td>60.30</td>\n",
       "      <td>3.0 M AMMONIUM SULFATE, 20 MM TRIS, 1MM EDTA, ...</td>\n",
       "      <td>9.0</td>\n",
       "      <td>1999.0</td>\n",
       "    </tr>\n",
       "  </tbody>\n",
       "</table>\n",
       "</div>"
      ],
      "text/plain": [
       "  structureId         classification experimentalTechnique macromoleculeType  \\\n",
       "2        101M       OXYGEN TRANSPORT     X-RAY DIFFRACTION           Protein   \n",
       "4        102L  HYDROLASE(O-GLYCOSYL)     X-RAY DIFFRACTION           Protein   \n",
       "5        102M       OXYGEN TRANSPORT     X-RAY DIFFRACTION           Protein   \n",
       "7        103L  HYDROLASE(O-GLYCOSYL)     X-RAY DIFFRACTION           Protein   \n",
       "8        103M       OXYGEN TRANSPORT     X-RAY DIFFRACTION           Protein   \n",
       "\n",
       "   residueCount  resolution  structureMolecularWeight crystallizationMethod  \\\n",
       "2           154        2.07                  18112.80                   NaN   \n",
       "4           165        1.74                  18926.61                   NaN   \n",
       "5           154        1.84                  18010.64                   NaN   \n",
       "7           167        1.90                  19092.72                   NaN   \n",
       "8           154        2.07                  18093.78                   NaN   \n",
       "\n",
       "   crystallizationTempK  densityMatthews  densityPercentSol  \\\n",
       "2                   NaN             3.09              60.20   \n",
       "4                   NaN             2.75              55.28   \n",
       "5                   NaN             3.09              60.20   \n",
       "7                   NaN             2.70              54.46   \n",
       "8                   NaN             3.09              60.30   \n",
       "\n",
       "                                         pdbxDetails  phValue  publicationYear  \n",
       "2  3.0 M AMMONIUM SULFATE, 20 MM TRIS, 1MM EDTA, ...      9.0           1999.0  \n",
       "4                                                NaN      NaN           1993.0  \n",
       "5  3.0 M AMMONIUM SULFATE, 20 MM TRIS, 1MM EDTA, ...      9.0           1999.0  \n",
       "7                                                NaN      NaN           1993.0  \n",
       "8  3.0 M AMMONIUM SULFATE, 20 MM TRIS, 1MM EDTA, ...      9.0           1999.0  "
      ]
     },
     "execution_count": 4,
     "metadata": {},
     "output_type": "execute_result"
    }
   ],
   "source": [
    "protein_char.head()"
   ]
  },
  {
   "cell_type": "code",
   "execution_count": 5,
   "id": "1d4eff30-f9d7-4a84-8444-61f023b08b96",
   "metadata": {},
   "outputs": [
    {
     "data": {
      "text/plain": [
       "<Axes: ylabel='classification'>"
      ]
     },
     "execution_count": 5,
     "metadata": {},
     "output_type": "execute_result"
    },
    {
     "data": {
      "image/png": "[encoded data removed]",
      "text/plain": [
       "<Figure size 1000x800 with 1 Axes>"
      ]
     },
     "metadata": {},
     "output_type": "display_data"
    }
   ],
   "source": [
    "protein_char['classification'].value_counts().head(20).plot(kind='barh', figsize=(10, 8))"
   ]
  },
  {
   "cell_type": "code",
   "execution_count": 6,
   "id": "15f2be07-c32c-4890-b723-b2ef05d1cbd2",
   "metadata": {},
   "outputs": [
    {
     "data": {
      "text/plain": [
       "classification\n",
       "HYDROLASE                                0.159824\n",
       "TRANSFERASE                              0.120449\n",
       "OXIDOREDUCTASE                           0.095589\n",
       "LYASE                                    0.033303\n",
       "IMMUNE SYSTEM                            0.031276\n",
       "TRANSCRIPTION                            0.027309\n",
       "TRANSPORT PROTEIN                        0.024930\n",
       "SIGNALING PROTEIN                        0.022332\n",
       "HYDROLASE/HYDROLASE INHIBITOR            0.020775\n",
       "ISOMERASE                                0.019875\n",
       "VIRAL PROTEIN                            0.017778\n",
       "LIGASE                                   0.016291\n",
       "PROTEIN BINDING                          0.014680\n",
       "MEMBRANE PROTEIN                         0.013365\n",
       "TRANSFERASE/TRANSFERASE INHIBITOR        0.013161\n",
       "STRUCTURAL GENOMICS, UNKNOWN FUNCTION    0.013036\n",
       "DNA BINDING PROTEIN                      0.011096\n",
       "METAL BINDING PROTEIN                    0.010564\n",
       "SUGAR BINDING PROTEIN                    0.010337\n",
       "CELL ADHESION                            0.010008\n",
       "Name: proportion, dtype: float64"
      ]
     },
     "execution_count": 6,
     "metadata": {},
     "output_type": "execute_result"
    }
   ],
   "source": [
    "protein_char['classification'].value_counts(normalize=True).head(20)"
   ]
  },
  {
   "cell_type": "code",
   "execution_count": 7,
   "id": "6d4a32cb-3407-40bf-a125-a6996dd3b558",
   "metadata": {},
   "outputs": [
    {
     "data": {
      "text/html": [
       "<div>\n",
       "<style scoped>\n",
       "    .dataframe tbody tr th:only-of-type {\n",
       "        vertical-align: middle;\n",
       "    }\n",
       "\n",
       "    .dataframe tbody tr th {\n",
       "        vertical-align: top;\n",
       "    }\n",
       "\n",
       "    .dataframe thead th {\n",
       "        text-align: right;\n",
       "    }\n",
       "</style>\n",
       "<table border=\"1\" class=\"dataframe\">\n",
       "  <thead>\n",
       "    <tr style=\"text-align: right;\">\n",
       "      <th></th>\n",
       "      <th>structureId</th>\n",
       "      <th>chainId</th>\n",
       "      <th>sequence</th>\n",
       "      <th>residueCount</th>\n",
       "      <th>macromoleculeType</th>\n",
       "    </tr>\n",
       "  </thead>\n",
       "  <tbody>\n",
       "    <tr>\n",
       "      <th>4</th>\n",
       "      <td>101M</td>\n",
       "      <td>A</td>\n",
       "      <td>MVLSEGEWQLVLHVWAKVEADVAGHGQDILIRLFKSHPETLEKFDR...</td>\n",
       "      <td>154</td>\n",
       "      <td>Protein</td>\n",
       "    </tr>\n",
       "    <tr>\n",
       "      <th>7</th>\n",
       "      <td>102L</td>\n",
       "      <td>A</td>\n",
       "      <td>MNIFEMLRIDEGLRLKIYKDTEGYYTIGIGHLLTKSPSLNAAAKSE...</td>\n",
       "      <td>165</td>\n",
       "      <td>Protein</td>\n",
       "    </tr>\n",
       "    <tr>\n",
       "      <th>8</th>\n",
       "      <td>102M</td>\n",
       "      <td>A</td>\n",
       "      <td>MVLSEGEWQLVLHVWAKVEADVAGHGQDILIRLFKSHPETLEKFDR...</td>\n",
       "      <td>154</td>\n",
       "      <td>Protein</td>\n",
       "    </tr>\n",
       "    <tr>\n",
       "      <th>11</th>\n",
       "      <td>103L</td>\n",
       "      <td>A</td>\n",
       "      <td>MNIFEMLRIDEGLRLKIYKDTEGYYTIGIGHLLTKSPSLNSLDAAK...</td>\n",
       "      <td>167</td>\n",
       "      <td>Protein</td>\n",
       "    </tr>\n",
       "    <tr>\n",
       "      <th>12</th>\n",
       "      <td>103M</td>\n",
       "      <td>A</td>\n",
       "      <td>MVLSEGEWQLVLHVWAKVEADVAGHGQDILIRLFKSHPETLEKFDR...</td>\n",
       "      <td>154</td>\n",
       "      <td>Protein</td>\n",
       "    </tr>\n",
       "  </tbody>\n",
       "</table>\n",
       "</div>"
      ],
      "text/plain": [
       "   structureId chainId                                           sequence  \\\n",
       "4         101M       A  MVLSEGEWQLVLHVWAKVEADVAGHGQDILIRLFKSHPETLEKFDR...   \n",
       "7         102L       A  MNIFEMLRIDEGLRLKIYKDTEGYYTIGIGHLLTKSPSLNAAAKSE...   \n",
       "8         102M       A  MVLSEGEWQLVLHVWAKVEADVAGHGQDILIRLFKSHPETLEKFDR...   \n",
       "11        103L       A  MNIFEMLRIDEGLRLKIYKDTEGYYTIGIGHLLTKSPSLNSLDAAK...   \n",
       "12        103M       A  MVLSEGEWQLVLHVWAKVEADVAGHGQDILIRLFKSHPETLEKFDR...   \n",
       "\n",
       "    residueCount macromoleculeType  \n",
       "4            154           Protein  \n",
       "7            165           Protein  \n",
       "8            154           Protein  \n",
       "11           167           Protein  \n",
       "12           154           Protein  "
      ]
     },
     "execution_count": 7,
     "metadata": {},
     "output_type": "execute_result"
    }
   ],
   "source": [
    "protein_seq.head()"
   ]
  },
  {
   "cell_type": "code",
   "execution_count": 8,
   "id": "1601dbdb-ee2f-4dfe-8877-89fe9c272dde",
   "metadata": {},
   "outputs": [
    {
     "data": {
      "text/html": [
       "<div>\n",
       "<style scoped>\n",
       "    .dataframe tbody tr th:only-of-type {\n",
       "        vertical-align: middle;\n",
       "    }\n",
       "\n",
       "    .dataframe tbody tr th {\n",
       "        vertical-align: top;\n",
       "    }\n",
       "\n",
       "    .dataframe thead th {\n",
       "        text-align: right;\n",
       "    }\n",
       "</style>\n",
       "<table border=\"1\" class=\"dataframe\">\n",
       "  <thead>\n",
       "    <tr style=\"text-align: right;\">\n",
       "      <th></th>\n",
       "      <th>structureId</th>\n",
       "      <th>chainId</th>\n",
       "      <th>sequence</th>\n",
       "      <th>residueCount</th>\n",
       "      <th>macromoleculeType</th>\n",
       "    </tr>\n",
       "  </thead>\n",
       "  <tbody>\n",
       "    <tr>\n",
       "      <th>count</th>\n",
       "      <td>345180</td>\n",
       "      <td>345178</td>\n",
       "      <td>345177</td>\n",
       "      <td>345180.000000</td>\n",
       "      <td>345180</td>\n",
       "    </tr>\n",
       "    <tr>\n",
       "      <th>unique</th>\n",
       "      <td>127387</td>\n",
       "      <td>2348</td>\n",
       "      <td>89083</td>\n",
       "      <td>NaN</td>\n",
       "      <td>1</td>\n",
       "    </tr>\n",
       "    <tr>\n",
       "      <th>top</th>\n",
       "      <td>3J3Q</td>\n",
       "      <td>A</td>\n",
       "      <td>PIVQNLQGQMVHQAISPRTLNAWVKVVEEKAFSPEVIPMFSALSEG...</td>\n",
       "      <td>NaN</td>\n",
       "      <td>Protein</td>\n",
       "    </tr>\n",
       "    <tr>\n",
       "      <th>freq</th>\n",
       "      <td>1356</td>\n",
       "      <td>123105</td>\n",
       "      <td>2580</td>\n",
       "      <td>NaN</td>\n",
       "      <td>345180</td>\n",
       "    </tr>\n",
       "    <tr>\n",
       "      <th>mean</th>\n",
       "      <td>NaN</td>\n",
       "      <td>NaN</td>\n",
       "      <td>NaN</td>\n",
       "      <td>4717.870508</td>\n",
       "      <td>NaN</td>\n",
       "    </tr>\n",
       "    <tr>\n",
       "      <th>std</th>\n",
       "      <td>NaN</td>\n",
       "      <td>NaN</td>\n",
       "      <td>NaN</td>\n",
       "      <td>26527.126728</td>\n",
       "      <td>NaN</td>\n",
       "    </tr>\n",
       "    <tr>\n",
       "      <th>min</th>\n",
       "      <td>NaN</td>\n",
       "      <td>NaN</td>\n",
       "      <td>NaN</td>\n",
       "      <td>3.000000</td>\n",
       "      <td>NaN</td>\n",
       "    </tr>\n",
       "    <tr>\n",
       "      <th>25%</th>\n",
       "      <td>NaN</td>\n",
       "      <td>NaN</td>\n",
       "      <td>NaN</td>\n",
       "      <td>398.000000</td>\n",
       "      <td>NaN</td>\n",
       "    </tr>\n",
       "    <tr>\n",
       "      <th>50%</th>\n",
       "      <td>NaN</td>\n",
       "      <td>NaN</td>\n",
       "      <td>NaN</td>\n",
       "      <td>856.000000</td>\n",
       "      <td>NaN</td>\n",
       "    </tr>\n",
       "    <tr>\n",
       "      <th>75%</th>\n",
       "      <td>NaN</td>\n",
       "      <td>NaN</td>\n",
       "      <td>NaN</td>\n",
       "      <td>1976.000000</td>\n",
       "      <td>NaN</td>\n",
       "    </tr>\n",
       "    <tr>\n",
       "      <th>max</th>\n",
       "      <td>NaN</td>\n",
       "      <td>NaN</td>\n",
       "      <td>NaN</td>\n",
       "      <td>313236.000000</td>\n",
       "      <td>NaN</td>\n",
       "    </tr>\n",
       "  </tbody>\n",
       "</table>\n",
       "</div>"
      ],
      "text/plain": [
       "       structureId chainId                                           sequence  \\\n",
       "count       345180  345178                                             345177   \n",
       "unique      127387    2348                                              89083   \n",
       "top           3J3Q       A  PIVQNLQGQMVHQAISPRTLNAWVKVVEEKAFSPEVIPMFSALSEG...   \n",
       "freq          1356  123105                                               2580   \n",
       "mean           NaN     NaN                                                NaN   \n",
       "std            NaN     NaN                                                NaN   \n",
       "min            NaN     NaN                                                NaN   \n",
       "25%            NaN     NaN                                                NaN   \n",
       "50%            NaN     NaN                                                NaN   \n",
       "75%            NaN     NaN                                                NaN   \n",
       "max            NaN     NaN                                                NaN   \n",
       "\n",
       "         residueCount macromoleculeType  \n",
       "count   345180.000000            345180  \n",
       "unique            NaN                 1  \n",
       "top               NaN           Protein  \n",
       "freq              NaN            345180  \n",
       "mean      4717.870508               NaN  \n",
       "std      26527.126728               NaN  \n",
       "min          3.000000               NaN  \n",
       "25%        398.000000               NaN  \n",
       "50%        856.000000               NaN  \n",
       "75%       1976.000000               NaN  \n",
       "max     313236.000000               NaN  "
      ]
     },
     "execution_count": 8,
     "metadata": {},
     "output_type": "execute_result"
    }
   ],
   "source": [
    "protein_seq.describe(include=\"all\")"
   ]
  },
  {
   "cell_type": "code",
   "execution_count": 9,
   "id": "1d4f782a-0cfd-4808-a328-c562f45c9e8f",
   "metadata": {},
   "outputs": [
    {
     "data": {
      "text/plain": [
       "Index(['structureId', 'classification', 'experimentalTechnique',\n",
       "       'macromoleculeType', 'residueCount', 'resolution',\n",
       "       'structureMolecularWeight', 'crystallizationMethod',\n",
       "       'crystallizationTempK', 'densityMatthews', 'densityPercentSol',\n",
       "       'pdbxDetails', 'phValue', 'publicationYear'],\n",
       "      dtype='object')"
      ]
     },
     "execution_count": 9,
     "metadata": {},
     "output_type": "execute_result"
    }
   ],
   "source": [
    "protein_char.columns"
   ]
  },
  {
   "cell_type": "code",
   "execution_count": 10,
   "id": "79b6fe31-9d36-4256-8db5-9ace597c36b6",
   "metadata": {},
   "outputs": [
    {
     "data": {
      "text/html": [
       "<div>\n",
       "<style scoped>\n",
       "    .dataframe tbody tr th:only-of-type {\n",
       "        vertical-align: middle;\n",
       "    }\n",
       "\n",
       "    .dataframe tbody tr th {\n",
       "        vertical-align: top;\n",
       "    }\n",
       "\n",
       "    .dataframe thead th {\n",
       "        text-align: right;\n",
       "    }\n",
       "</style>\n",
       "<table border=\"1\" class=\"dataframe\">\n",
       "  <thead>\n",
       "    <tr style=\"text-align: right;\">\n",
       "      <th></th>\n",
       "      <th>structureId</th>\n",
       "      <th>sequence</th>\n",
       "    </tr>\n",
       "  </thead>\n",
       "  <tbody>\n",
       "    <tr>\n",
       "      <th>4</th>\n",
       "      <td>101M</td>\n",
       "      <td>MVLSEGEWQLVLHVWAKVEADVAGHGQDILIRLFKSHPETLEKFDR...</td>\n",
       "    </tr>\n",
       "    <tr>\n",
       "      <th>7</th>\n",
       "      <td>102L</td>\n",
       "      <td>MNIFEMLRIDEGLRLKIYKDTEGYYTIGIGHLLTKSPSLNAAAKSE...</td>\n",
       "    </tr>\n",
       "    <tr>\n",
       "      <th>8</th>\n",
       "      <td>102M</td>\n",
       "      <td>MVLSEGEWQLVLHVWAKVEADVAGHGQDILIRLFKSHPETLEKFDR...</td>\n",
       "    </tr>\n",
       "    <tr>\n",
       "      <th>11</th>\n",
       "      <td>103L</td>\n",
       "      <td>MNIFEMLRIDEGLRLKIYKDTEGYYTIGIGHLLTKSPSLNSLDAAK...</td>\n",
       "    </tr>\n",
       "    <tr>\n",
       "      <th>12</th>\n",
       "      <td>103M</td>\n",
       "      <td>MVLSEGEWQLVLHVWAKVEADVAGHGQDILIRLFKSHPETLEKFDR...</td>\n",
       "    </tr>\n",
       "  </tbody>\n",
       "</table>\n",
       "</div>"
      ],
      "text/plain": [
       "   structureId                                           sequence\n",
       "4         101M  MVLSEGEWQLVLHVWAKVEADVAGHGQDILIRLFKSHPETLEKFDR...\n",
       "7         102L  MNIFEMLRIDEGLRLKIYKDTEGYYTIGIGHLLTKSPSLNAAAKSE...\n",
       "8         102M  MVLSEGEWQLVLHVWAKVEADVAGHGQDILIRLFKSHPETLEKFDR...\n",
       "11        103L  MNIFEMLRIDEGLRLKIYKDTEGYYTIGIGHLLTKSPSLNSLDAAK...\n",
       "12        103M  MVLSEGEWQLVLHVWAKVEADVAGHGQDILIRLFKSHPETLEKFDR..."
      ]
     },
     "execution_count": 10,
     "metadata": {},
     "output_type": "execute_result"
    }
   ],
   "source": [
    "protein_char = protein_char[['structureId','classification','residueCount', 'resolution',\n",
    "       'structureMolecularWeight','crystallizationTempK', 'densityMatthews', 'densityPercentSol', 'phValue']]\n",
    "protein_seq = protein_seq[['structureId','sequence']]\n",
    "protein_seq.head()"
   ]
  },
  {
   "cell_type": "code",
   "execution_count": 11,
   "id": "3e066dea-8147-4a6e-8384-454a7067b5ad",
   "metadata": {},
   "outputs": [
    {
     "data": {
      "text/html": [
       "<div>\n",
       "<style scoped>\n",
       "    .dataframe tbody tr th:only-of-type {\n",
       "        vertical-align: middle;\n",
       "    }\n",
       "\n",
       "    .dataframe tbody tr th {\n",
       "        vertical-align: top;\n",
       "    }\n",
       "\n",
       "    .dataframe thead th {\n",
       "        text-align: right;\n",
       "    }\n",
       "</style>\n",
       "<table border=\"1\" class=\"dataframe\">\n",
       "  <thead>\n",
       "    <tr style=\"text-align: right;\">\n",
       "      <th></th>\n",
       "      <th>structureId</th>\n",
       "      <th>classification</th>\n",
       "      <th>residueCount</th>\n",
       "      <th>resolution</th>\n",
       "      <th>structureMolecularWeight</th>\n",
       "      <th>crystallizationTempK</th>\n",
       "      <th>densityMatthews</th>\n",
       "      <th>densityPercentSol</th>\n",
       "      <th>phValue</th>\n",
       "    </tr>\n",
       "  </thead>\n",
       "  <tbody>\n",
       "    <tr>\n",
       "      <th>2</th>\n",
       "      <td>101M</td>\n",
       "      <td>OXYGEN TRANSPORT</td>\n",
       "      <td>154</td>\n",
       "      <td>2.07</td>\n",
       "      <td>18112.80</td>\n",
       "      <td>NaN</td>\n",
       "      <td>3.09</td>\n",
       "      <td>60.20</td>\n",
       "      <td>9.0</td>\n",
       "    </tr>\n",
       "    <tr>\n",
       "      <th>4</th>\n",
       "      <td>102L</td>\n",
       "      <td>HYDROLASE(O-GLYCOSYL)</td>\n",
       "      <td>165</td>\n",
       "      <td>1.74</td>\n",
       "      <td>18926.61</td>\n",
       "      <td>NaN</td>\n",
       "      <td>2.75</td>\n",
       "      <td>55.28</td>\n",
       "      <td>NaN</td>\n",
       "    </tr>\n",
       "    <tr>\n",
       "      <th>5</th>\n",
       "      <td>102M</td>\n",
       "      <td>OXYGEN TRANSPORT</td>\n",
       "      <td>154</td>\n",
       "      <td>1.84</td>\n",
       "      <td>18010.64</td>\n",
       "      <td>NaN</td>\n",
       "      <td>3.09</td>\n",
       "      <td>60.20</td>\n",
       "      <td>9.0</td>\n",
       "    </tr>\n",
       "    <tr>\n",
       "      <th>7</th>\n",
       "      <td>103L</td>\n",
       "      <td>HYDROLASE(O-GLYCOSYL)</td>\n",
       "      <td>167</td>\n",
       "      <td>1.90</td>\n",
       "      <td>19092.72</td>\n",
       "      <td>NaN</td>\n",
       "      <td>2.70</td>\n",
       "      <td>54.46</td>\n",
       "      <td>NaN</td>\n",
       "    </tr>\n",
       "    <tr>\n",
       "      <th>8</th>\n",
       "      <td>103M</td>\n",
       "      <td>OXYGEN TRANSPORT</td>\n",
       "      <td>154</td>\n",
       "      <td>2.07</td>\n",
       "      <td>18093.78</td>\n",
       "      <td>NaN</td>\n",
       "      <td>3.09</td>\n",
       "      <td>60.30</td>\n",
       "      <td>9.0</td>\n",
       "    </tr>\n",
       "  </tbody>\n",
       "</table>\n",
       "</div>"
      ],
      "text/plain": [
       "  structureId         classification  residueCount  resolution  \\\n",
       "2        101M       OXYGEN TRANSPORT           154        2.07   \n",
       "4        102L  HYDROLASE(O-GLYCOSYL)           165        1.74   \n",
       "5        102M       OXYGEN TRANSPORT           154        1.84   \n",
       "7        103L  HYDROLASE(O-GLYCOSYL)           167        1.90   \n",
       "8        103M       OXYGEN TRANSPORT           154        2.07   \n",
       "\n",
       "   structureMolecularWeight  crystallizationTempK  densityMatthews  \\\n",
       "2                  18112.80                   NaN             3.09   \n",
       "4                  18926.61                   NaN             2.75   \n",
       "5                  18010.64                   NaN             3.09   \n",
       "7                  19092.72                   NaN             2.70   \n",
       "8                  18093.78                   NaN             3.09   \n",
       "\n",
       "   densityPercentSol  phValue  \n",
       "2              60.20      9.0  \n",
       "4              55.28      NaN  \n",
       "5              60.20      9.0  \n",
       "7              54.46      NaN  \n",
       "8              60.30      9.0  "
      ]
     },
     "execution_count": 11,
     "metadata": {},
     "output_type": "execute_result"
    }
   ],
   "source": [
    "protein_char.head()"
   ]
  },
  {
   "cell_type": "code",
   "execution_count": 12,
   "id": "f797004b-6843-4d8e-b420-d3dc0365ac86",
   "metadata": {},
   "outputs": [
    {
     "data": {
      "text/html": [
       "<div>\n",
       "<style scoped>\n",
       "    .dataframe tbody tr th:only-of-type {\n",
       "        vertical-align: middle;\n",
       "    }\n",
       "\n",
       "    .dataframe tbody tr th {\n",
       "        vertical-align: top;\n",
       "    }\n",
       "\n",
       "    .dataframe thead th {\n",
       "        text-align: right;\n",
       "    }\n",
       "</style>\n",
       "<table border=\"1\" class=\"dataframe\">\n",
       "  <thead>\n",
       "    <tr style=\"text-align: right;\">\n",
       "      <th></th>\n",
       "      <th>classification</th>\n",
       "      <th>residueCount</th>\n",
       "      <th>resolution</th>\n",
       "      <th>structureMolecularWeight</th>\n",
       "      <th>crystallizationTempK</th>\n",
       "      <th>densityMatthews</th>\n",
       "      <th>densityPercentSol</th>\n",
       "      <th>phValue</th>\n",
       "      <th>sequence</th>\n",
       "    </tr>\n",
       "    <tr>\n",
       "      <th>structureId</th>\n",
       "      <th></th>\n",
       "      <th></th>\n",
       "      <th></th>\n",
       "      <th></th>\n",
       "      <th></th>\n",
       "      <th></th>\n",
       "      <th></th>\n",
       "      <th></th>\n",
       "      <th></th>\n",
       "    </tr>\n",
       "  </thead>\n",
       "  <tbody>\n",
       "    <tr>\n",
       "      <th>101M</th>\n",
       "      <td>OXYGEN TRANSPORT</td>\n",
       "      <td>154</td>\n",
       "      <td>2.07</td>\n",
       "      <td>18112.80</td>\n",
       "      <td>NaN</td>\n",
       "      <td>3.09</td>\n",
       "      <td>60.20</td>\n",
       "      <td>9.0</td>\n",
       "      <td>MVLSEGEWQLVLHVWAKVEADVAGHGQDILIRLFKSHPETLEKFDR...</td>\n",
       "    </tr>\n",
       "    <tr>\n",
       "      <th>102L</th>\n",
       "      <td>HYDROLASE(O-GLYCOSYL)</td>\n",
       "      <td>165</td>\n",
       "      <td>1.74</td>\n",
       "      <td>18926.61</td>\n",
       "      <td>NaN</td>\n",
       "      <td>2.75</td>\n",
       "      <td>55.28</td>\n",
       "      <td>NaN</td>\n",
       "      <td>MNIFEMLRIDEGLRLKIYKDTEGYYTIGIGHLLTKSPSLNAAAKSE...</td>\n",
       "    </tr>\n",
       "    <tr>\n",
       "      <th>102M</th>\n",
       "      <td>OXYGEN TRANSPORT</td>\n",
       "      <td>154</td>\n",
       "      <td>1.84</td>\n",
       "      <td>18010.64</td>\n",
       "      <td>NaN</td>\n",
       "      <td>3.09</td>\n",
       "      <td>60.20</td>\n",
       "      <td>9.0</td>\n",
       "      <td>MVLSEGEWQLVLHVWAKVEADVAGHGQDILIRLFKSHPETLEKFDR...</td>\n",
       "    </tr>\n",
       "    <tr>\n",
       "      <th>103L</th>\n",
       "      <td>HYDROLASE(O-GLYCOSYL)</td>\n",
       "      <td>167</td>\n",
       "      <td>1.90</td>\n",
       "      <td>19092.72</td>\n",
       "      <td>NaN</td>\n",
       "      <td>2.70</td>\n",
       "      <td>54.46</td>\n",
       "      <td>NaN</td>\n",
       "      <td>MNIFEMLRIDEGLRLKIYKDTEGYYTIGIGHLLTKSPSLNSLDAAK...</td>\n",
       "    </tr>\n",
       "    <tr>\n",
       "      <th>103M</th>\n",
       "      <td>OXYGEN TRANSPORT</td>\n",
       "      <td>154</td>\n",
       "      <td>2.07</td>\n",
       "      <td>18093.78</td>\n",
       "      <td>NaN</td>\n",
       "      <td>3.09</td>\n",
       "      <td>60.30</td>\n",
       "      <td>9.0</td>\n",
       "      <td>MVLSEGEWQLVLHVWAKVEADVAGHGQDILIRLFKSHPETLEKFDR...</td>\n",
       "    </tr>\n",
       "  </tbody>\n",
       "</table>\n",
       "</div>"
      ],
      "text/plain": [
       "                    classification  residueCount  resolution  \\\n",
       "structureId                                                    \n",
       "101M              OXYGEN TRANSPORT           154        2.07   \n",
       "102L         HYDROLASE(O-GLYCOSYL)           165        1.74   \n",
       "102M              OXYGEN TRANSPORT           154        1.84   \n",
       "103L         HYDROLASE(O-GLYCOSYL)           167        1.90   \n",
       "103M              OXYGEN TRANSPORT           154        2.07   \n",
       "\n",
       "             structureMolecularWeight  crystallizationTempK  densityMatthews  \\\n",
       "structureId                                                                    \n",
       "101M                         18112.80                   NaN             3.09   \n",
       "102L                         18926.61                   NaN             2.75   \n",
       "102M                         18010.64                   NaN             3.09   \n",
       "103L                         19092.72                   NaN             2.70   \n",
       "103M                         18093.78                   NaN             3.09   \n",
       "\n",
       "             densityPercentSol  phValue  \\\n",
       "structureId                               \n",
       "101M                     60.20      9.0   \n",
       "102L                     55.28      NaN   \n",
       "102M                     60.20      9.0   \n",
       "103L                     54.46      NaN   \n",
       "103M                     60.30      9.0   \n",
       "\n",
       "                                                      sequence  \n",
       "structureId                                                     \n",
       "101M         MVLSEGEWQLVLHVWAKVEADVAGHGQDILIRLFKSHPETLEKFDR...  \n",
       "102L         MNIFEMLRIDEGLRLKIYKDTEGYYTIGIGHLLTKSPSLNAAAKSE...  \n",
       "102M         MVLSEGEWQLVLHVWAKVEADVAGHGQDILIRLFKSHPETLEKFDR...  \n",
       "103L         MNIFEMLRIDEGLRLKIYKDTEGYYTIGIGHLLTKSPSLNSLDAAK...  \n",
       "103M         MVLSEGEWQLVLHVWAKVEADVAGHGQDILIRLFKSHPETLEKFDR...  "
      ]
     },
     "execution_count": 12,
     "metadata": {},
     "output_type": "execute_result"
    }
   ],
   "source": [
    "model_f = protein_char.set_index('structureId').join(protein_seq.set_index('structureId'))\n",
    "model_f.head()"
   ]
  },
  {
   "cell_type": "code",
   "execution_count": 13,
   "id": "7501d4bc-5c71-4ba2-ae95-2869002e5af6",
   "metadata": {},
   "outputs": [
    {
     "name": "stdout",
     "output_type": "stream",
     "text": [
      "346325 is the number of rows in the joined dataset\n"
     ]
    }
   ],
   "source": [
    "print('%d is the number of rows in the joined dataset' %model_f.shape[0])"
   ]
  },
  {
   "cell_type": "code",
   "execution_count": 14,
   "id": "cb2d0fe2-18ef-4f1a-b31a-979b40c0659d",
   "metadata": {},
   "outputs": [
    {
     "data": {
      "text/plain": [
       "classification                   1\n",
       "residueCount                     0\n",
       "resolution                   16093\n",
       "structureMolecularWeight         0\n",
       "crystallizationTempK        102391\n",
       "densityMatthews              38844\n",
       "densityPercentSol            38710\n",
       "phValue                      87195\n",
       "sequence                         3\n",
       "dtype: int64"
      ]
     },
     "execution_count": 14,
     "metadata": {},
     "output_type": "execute_result"
    }
   ],
   "source": [
    "model_f.isnull().sum()"
   ]
  },
  {
   "cell_type": "code",
   "execution_count": 15,
   "id": "4cc37419-85b1-402a-a5c4-5c3404506898",
   "metadata": {},
   "outputs": [
    {
     "name": "stdout",
     "output_type": "stream",
     "text": [
      "214106 is the number of proteins that have a classification and sequence\n"
     ]
    }
   ],
   "source": [
    "model_f = model_f.dropna()\n",
    "print('%d is the number of proteins that have a classification and sequence' %model_f.shape[0])"
   ]
  },
  {
   "cell_type": "code",
   "execution_count": 16,
   "id": "c3d00bd7-6b1a-470d-9ad8-c629f6292c18",
   "metadata": {},
   "outputs": [
    {
     "data": {
      "image/png": "[encoded data removed]",
      "text/plain": [
       "<Figure size 640x480 with 1 Axes>"
      ]
     },
     "metadata": {},
     "output_type": "display_data"
    }
   ],
   "source": [
    "counts = model_f.classification.value_counts()\n",
    "plt.figure()\n",
    "plt.hist(counts, color='purple')\n",
    "plt.title('Count Distribution for Family Types')\n",
    "plt.ylabel('% of records')\n",
    "plt.show()"
   ]
  },
  {
   "cell_type": "code",
   "execution_count": 17,
   "id": "58df4b05-4f40-4f1f-a9c0-e9039293dad5",
   "metadata": {},
   "outputs": [
    {
     "name": "stdout",
     "output_type": "stream",
     "text": [
      "32\n",
      "['HYDROLASE' 'TRANSFERASE' 'OXIDOREDUCTASE' 'IMMUNE SYSTEM'\n",
      " 'HYDROLASE/HYDROLASE INHIBITOR' 'LYASE' 'TRANSCRIPTION'\n",
      " 'TRANSPORT PROTEIN' 'ISOMERASE' 'VIRAL PROTEIN' 'SIGNALING PROTEIN'\n",
      " 'LIGASE' 'PROTEIN BINDING' 'STRUCTURAL GENOMICS, UNKNOWN FUNCTION'\n",
      " 'TRANSFERASE/TRANSFERASE INHIBITOR' 'MEMBRANE PROTEIN'\n",
      " 'SUGAR BINDING PROTEIN' 'UNKNOWN FUNCTION' 'DNA BINDING PROTEIN'\n",
      " 'CHAPERONE' 'STRUCTURAL PROTEIN' 'METAL BINDING PROTEIN' 'CELL ADHESION'\n",
      " 'ELECTRON TRANSPORT' 'PROTEIN TRANSPORT'\n",
      " 'OXIDOREDUCTASE/OXIDOREDUCTASE INHIBITOR' 'TOXIN' 'RNA BINDING PROTEIN'\n",
      " 'CELL CYCLE' 'PHOTOSYNTHESIS' 'GENE REGULATION' 'DE NOVO PROTEIN']\n",
      "46422 is the number of records in the final filtered dataset\n"
     ]
    }
   ],
   "source": [
    "# Get classification types where counts are over 1000\n",
    "types = np.asarray(counts[(counts > 1000)].index)\n",
    "print(len(types))\n",
    "# Filter dataset's records for classification types > 1000\n",
    "data = model_f[model_f.classification.isin(types)]\n",
    "data = data.drop_duplicates(subset=[\"classification\",\"sequence\"])  # leaving more rows results in duplciates / index related?\n",
    "\n",
    "print(types)\n",
    "print('%d is the number of records in the final filtered dataset' %data.shape[0])"
   ]
  },
  {
   "cell_type": "code",
   "execution_count": 18,
   "id": "7de88091-2836-40fb-be72-a62f80039621",
   "metadata": {},
   "outputs": [
    {
     "data": {
      "text/plain": [
       "(46422, 9)"
      ]
     },
     "execution_count": 18,
     "metadata": {},
     "output_type": "execute_result"
    }
   ],
   "source": [
    "data = data.drop_duplicates(subset=[\"classification\",\"sequence\"]) \n",
    "data.shape"
   ]
  },
  {
   "cell_type": "code",
   "execution_count": 19,
   "id": "50cf6517-e2aa-41d2-b592-41afb2625a80",
   "metadata": {},
   "outputs": [],
   "source": [
    "def char_grams(text,n=3,jump_size=2):\n",
    "    return [text[i:i+n] for i in range(0,len(text)-n+1,jump_size)]"
   ]
  },
  {
   "cell_type": "code",
   "execution_count": 20,
   "id": "0166eb73-bf08-4861-bafa-1e836723e82e",
   "metadata": {},
   "outputs": [
    {
     "data": {
      "text/plain": [
       "structureId\n",
       "1A4S    [AQL, LVD, DSM, MPS, SAS, STG, GSV, VVV, VTD, ...\n",
       "1A6Q    [MGA, AFL, LDK, KPK, KME, EKH, HNA, AQG, GQG, ...\n",
       "1A72    [STA, AGK, KVI, IKC, CKA, AAV, VLW, WEE, EKK, ...\n",
       "Name: sequence, dtype: object"
      ]
     },
     "execution_count": 20,
     "metadata": {},
     "output_type": "execute_result"
    }
   ],
   "source": [
    "data.head(3).sequence.apply(char_grams)"
   ]
  },
  {
   "cell_type": "code",
   "execution_count": 21,
   "id": "8204e092-14e5-4bfa-bb2f-0ecd20513cc7",
   "metadata": {},
   "outputs": [],
   "source": [
    "data[\"3mers\"] = data.sequence.apply(char_grams)"
   ]
  },
  {
   "cell_type": "code",
   "execution_count": 22,
   "id": "0a7a4e7a-ce65-43fa-b934-d63949a0488a",
   "metadata": {},
   "outputs": [
    {
     "data": {
      "text/html": [
       "<div>\n",
       "<style scoped>\n",
       "    .dataframe tbody tr th:only-of-type {\n",
       "        vertical-align: middle;\n",
       "    }\n",
       "\n",
       "    .dataframe tbody tr th {\n",
       "        vertical-align: top;\n",
       "    }\n",
       "\n",
       "    .dataframe thead th {\n",
       "        text-align: right;\n",
       "    }\n",
       "</style>\n",
       "<table border=\"1\" class=\"dataframe\">\n",
       "  <thead>\n",
       "    <tr style=\"text-align: right;\">\n",
       "      <th></th>\n",
       "      <th>classification</th>\n",
       "      <th>residueCount</th>\n",
       "      <th>resolution</th>\n",
       "      <th>structureMolecularWeight</th>\n",
       "      <th>crystallizationTempK</th>\n",
       "      <th>densityMatthews</th>\n",
       "      <th>densityPercentSol</th>\n",
       "      <th>phValue</th>\n",
       "      <th>sequence</th>\n",
       "      <th>3mers</th>\n",
       "    </tr>\n",
       "    <tr>\n",
       "      <th>structureId</th>\n",
       "      <th></th>\n",
       "      <th></th>\n",
       "      <th></th>\n",
       "      <th></th>\n",
       "      <th></th>\n",
       "      <th></th>\n",
       "      <th></th>\n",
       "      <th></th>\n",
       "      <th></th>\n",
       "      <th></th>\n",
       "    </tr>\n",
       "  </thead>\n",
       "  <tbody>\n",
       "    <tr>\n",
       "      <th>6FFL</th>\n",
       "      <td>SUGAR BINDING PROTEIN</td>\n",
       "      <td>388</td>\n",
       "      <td>1.71</td>\n",
       "      <td>44992.17</td>\n",
       "      <td>291.0</td>\n",
       "      <td>2.59</td>\n",
       "      <td>53.00</td>\n",
       "      <td>5.5</td>\n",
       "      <td>EDVRIQIWHQMIYGHRQVLAEALEKFEKENPGITVQATYRETEELR...</td>\n",
       "      <td>[EDV, VRI, IQI, IWH, HQM, MIY, YGH, HRQ, QVL, ...</td>\n",
       "    </tr>\n",
       "    <tr>\n",
       "      <th>6FG7</th>\n",
       "      <td>PROTEIN BINDING</td>\n",
       "      <td>500</td>\n",
       "      <td>1.90</td>\n",
       "      <td>56392.64</td>\n",
       "      <td>298.0</td>\n",
       "      <td>3.39</td>\n",
       "      <td>63.68</td>\n",
       "      <td>4.0</td>\n",
       "      <td>MKEIGSKPRKLLPLCFIIFLCFCSSVMAADEDDIRCLRGLKASLTD...</td>\n",
       "      <td>[MKE, EIG, GSK, KPR, RKL, LLP, PLC, CFI, IIF, ...</td>\n",
       "    </tr>\n",
       "    <tr>\n",
       "      <th>6FG8</th>\n",
       "      <td>PROTEIN BINDING</td>\n",
       "      <td>506</td>\n",
       "      <td>1.25</td>\n",
       "      <td>58478.36</td>\n",
       "      <td>298.0</td>\n",
       "      <td>1.86</td>\n",
       "      <td>33.78</td>\n",
       "      <td>5.5</td>\n",
       "      <td>MTRLTVLALLAGLLASSRAGSSMASANLEGDALHTLRVTLVDPNNV...</td>\n",
       "      <td>[MTR, RLT, TVL, LAL, LLA, AGL, LLA, ASS, SRA, ...</td>\n",
       "    </tr>\n",
       "    <tr>\n",
       "      <th>6FG8</th>\n",
       "      <td>PROTEIN BINDING</td>\n",
       "      <td>506</td>\n",
       "      <td>1.25</td>\n",
       "      <td>58478.36</td>\n",
       "      <td>298.0</td>\n",
       "      <td>1.86</td>\n",
       "      <td>33.78</td>\n",
       "      <td>5.5</td>\n",
       "      <td>MKKIFITLLWLLFISSFLCSSSSAEDDVLCLQGLKNSLIDPSSRLS...</td>\n",
       "      <td>[MKK, KIF, FIT, TLL, LWL, LLF, FIS, SSF, FLC, ...</td>\n",
       "    </tr>\n",
       "    <tr>\n",
       "      <th>6FIF</th>\n",
       "      <td>PROTEIN BINDING</td>\n",
       "      <td>837</td>\n",
       "      <td>2.54</td>\n",
       "      <td>93918.31</td>\n",
       "      <td>298.0</td>\n",
       "      <td>3.32</td>\n",
       "      <td>62.96</td>\n",
       "      <td>4.0</td>\n",
       "      <td>MKTFSSFFLSVTTLFFFSFFSLSFQASPSQSLYREIHQLISFKDVL...</td>\n",
       "      <td>[MKT, TFS, SSF, FFL, LSV, VTT, TLF, FFF, FSF, ...</td>\n",
       "    </tr>\n",
       "  </tbody>\n",
       "</table>\n",
       "</div>"
      ],
      "text/plain": [
       "                    classification  residueCount  resolution  \\\n",
       "structureId                                                    \n",
       "6FFL         SUGAR BINDING PROTEIN           388        1.71   \n",
       "6FG7               PROTEIN BINDING           500        1.90   \n",
       "6FG8               PROTEIN BINDING           506        1.25   \n",
       "6FG8               PROTEIN BINDING           506        1.25   \n",
       "6FIF               PROTEIN BINDING           837        2.54   \n",
       "\n",
       "             structureMolecularWeight  crystallizationTempK  densityMatthews  \\\n",
       "structureId                                                                    \n",
       "6FFL                         44992.17                 291.0             2.59   \n",
       "6FG7                         56392.64                 298.0             3.39   \n",
       "6FG8                         58478.36                 298.0             1.86   \n",
       "6FG8                         58478.36                 298.0             1.86   \n",
       "6FIF                         93918.31                 298.0             3.32   \n",
       "\n",
       "             densityPercentSol  phValue  \\\n",
       "structureId                               \n",
       "6FFL                     53.00      5.5   \n",
       "6FG7                     63.68      4.0   \n",
       "6FG8                     33.78      5.5   \n",
       "6FG8                     33.78      5.5   \n",
       "6FIF                     62.96      4.0   \n",
       "\n",
       "                                                      sequence  \\\n",
       "structureId                                                      \n",
       "6FFL         EDVRIQIWHQMIYGHRQVLAEALEKFEKENPGITVQATYRETEELR...   \n",
       "6FG7         MKEIGSKPRKLLPLCFIIFLCFCSSVMAADEDDIRCLRGLKASLTD...   \n",
       "6FG8         MTRLTVLALLAGLLASSRAGSSMASANLEGDALHTLRVTLVDPNNV...   \n",
       "6FG8         MKKIFITLLWLLFISSFLCSSSSAEDDVLCLQGLKNSLIDPSSRLS...   \n",
       "6FIF         MKTFSSFFLSVTTLFFFSFFSLSFQASPSQSLYREIHQLISFKDVL...   \n",
       "\n",
       "                                                         3mers  \n",
       "structureId                                                     \n",
       "6FFL         [EDV, VRI, IQI, IWH, HQM, MIY, YGH, HRQ, QVL, ...  \n",
       "6FG7         [MKE, EIG, GSK, KPR, RKL, LLP, PLC, CFI, IIF, ...  \n",
       "6FG8         [MTR, RLT, TVL, LAL, LLA, AGL, LLA, ASS, SRA, ...  \n",
       "6FG8         [MKK, KIF, FIT, TLL, LWL, LLF, FIS, SSF, FLC, ...  \n",
       "6FIF         [MKT, TFS, SSF, FFL, LSV, VTT, TLF, FFF, FSF, ...  "
      ]
     },
     "execution_count": 22,
     "metadata": {},
     "output_type": "execute_result"
    }
   ],
   "source": [
    "data.tail()"
   ]
  },
  {
   "cell_type": "code",
   "execution_count": 23,
   "id": "19868853-b126-43e3-b84e-226e453d632e",
   "metadata": {},
   "outputs": [
    {
     "data": {
      "text/plain": [
       "<Axes: ylabel='classification'>"
      ]
     },
     "execution_count": 23,
     "metadata": {},
     "output_type": "execute_result"
    },
    {
     "data": {
      "image/png": "[encoded data removed]",
      "text/plain": [
       "<Figure size 1000x800 with 1 Axes>"
      ]
     },
     "metadata": {},
     "output_type": "display_data"
    }
   ],
   "source": [
    "data['classification'].value_counts().head(20).plot(kind='barh', figsize=(10, 8))"
   ]
  },
  {
   "cell_type": "code",
   "execution_count": 24,
   "id": "59713670-6aa6-4a19-9030-aa64a4a68004",
   "metadata": {},
   "outputs": [
    {
     "data": {
      "text/html": [
       "<div>\n",
       "<style scoped>\n",
       "    .dataframe tbody tr th:only-of-type {\n",
       "        vertical-align: middle;\n",
       "    }\n",
       "\n",
       "    .dataframe tbody tr th {\n",
       "        vertical-align: top;\n",
       "    }\n",
       "\n",
       "    .dataframe thead th {\n",
       "        text-align: right;\n",
       "    }\n",
       "</style>\n",
       "<table border=\"1\" class=\"dataframe\">\n",
       "  <thead>\n",
       "    <tr style=\"text-align: right;\">\n",
       "      <th></th>\n",
       "      <th>classification</th>\n",
       "      <th>residueCount</th>\n",
       "      <th>resolution</th>\n",
       "      <th>structureMolecularWeight</th>\n",
       "      <th>crystallizationTempK</th>\n",
       "      <th>densityMatthews</th>\n",
       "      <th>densityPercentSol</th>\n",
       "      <th>phValue</th>\n",
       "      <th>sequence</th>\n",
       "      <th>3mers</th>\n",
       "    </tr>\n",
       "    <tr>\n",
       "      <th>structureId</th>\n",
       "      <th></th>\n",
       "      <th></th>\n",
       "      <th></th>\n",
       "      <th></th>\n",
       "      <th></th>\n",
       "      <th></th>\n",
       "      <th></th>\n",
       "      <th></th>\n",
       "      <th></th>\n",
       "      <th></th>\n",
       "    </tr>\n",
       "  </thead>\n",
       "  <tbody>\n",
       "    <tr>\n",
       "      <th>1A4S</th>\n",
       "      <td>OXIDOREDUCTASE</td>\n",
       "      <td>2012</td>\n",
       "      <td>2.1</td>\n",
       "      <td>217689.59</td>\n",
       "      <td>287.0</td>\n",
       "      <td>2.43</td>\n",
       "      <td>41.00</td>\n",
       "      <td>7.5</td>\n",
       "      <td>AQLVDSMPSASTGSVVVTDDLNYWGGRRIKSKDGATTEPVFEPATG...</td>\n",
       "      <td>[AQL, LVD, DSM, MPS, SAS, STG, GSV, VVV, VTD, ...</td>\n",
       "    </tr>\n",
       "    <tr>\n",
       "      <th>1A6Q</th>\n",
       "      <td>HYDROLASE</td>\n",
       "      <td>382</td>\n",
       "      <td>2.0</td>\n",
       "      <td>42707.55</td>\n",
       "      <td>277.0</td>\n",
       "      <td>2.97</td>\n",
       "      <td>59.00</td>\n",
       "      <td>5.0</td>\n",
       "      <td>MGAFLDKPKMEKHNAQGQGNGLRYGLSSMQGWRVEMEDAHTAVIGL...</td>\n",
       "      <td>[MGA, AFL, LDK, KPK, KME, EKH, HNA, AQG, GQG, ...</td>\n",
       "    </tr>\n",
       "    <tr>\n",
       "      <th>1A72</th>\n",
       "      <td>OXIDOREDUCTASE</td>\n",
       "      <td>374</td>\n",
       "      <td>2.6</td>\n",
       "      <td>40658.50</td>\n",
       "      <td>277.0</td>\n",
       "      <td>2.30</td>\n",
       "      <td>46.82</td>\n",
       "      <td>8.4</td>\n",
       "      <td>STAGKVIKCKAAVLWEEKKPFSIEEVEVAPPKAHEVRIKMVATGIC...</td>\n",
       "      <td>[STA, AGK, KVI, IKC, CKA, AAV, VLW, WEE, EKK, ...</td>\n",
       "    </tr>\n",
       "    <tr>\n",
       "      <th>1A8O</th>\n",
       "      <td>VIRAL PROTEIN</td>\n",
       "      <td>70</td>\n",
       "      <td>1.7</td>\n",
       "      <td>8175.72</td>\n",
       "      <td>277.0</td>\n",
       "      <td>2.21</td>\n",
       "      <td>43.80</td>\n",
       "      <td>8.0</td>\n",
       "      <td>MDIRQGPKEPFRDYVDRFYKTLRAEQASQEVKNWMTETLLVQNANP...</td>\n",
       "      <td>[MDI, IRQ, QGP, PKE, EPF, FRD, DYV, VDR, RFY, ...</td>\n",
       "    </tr>\n",
       "    <tr>\n",
       "      <th>1ACC</th>\n",
       "      <td>TOXIN</td>\n",
       "      <td>735</td>\n",
       "      <td>2.1</td>\n",
       "      <td>82849.97</td>\n",
       "      <td>277.0</td>\n",
       "      <td>2.30</td>\n",
       "      <td>47.00</td>\n",
       "      <td>6.0</td>\n",
       "      <td>EVKQENRLLNESESSSQGLLGYYFSDLNFQAPMVVTSSTTGDLSIP...</td>\n",
       "      <td>[EVK, KQE, ENR, RLL, LNE, ESE, ESS, SSQ, QGL, ...</td>\n",
       "    </tr>\n",
       "  </tbody>\n",
       "</table>\n",
       "</div>"
      ],
      "text/plain": [
       "             classification  residueCount  resolution  \\\n",
       "structureId                                             \n",
       "1A4S         OXIDOREDUCTASE          2012         2.1   \n",
       "1A6Q              HYDROLASE           382         2.0   \n",
       "1A72         OXIDOREDUCTASE           374         2.6   \n",
       "1A8O          VIRAL PROTEIN            70         1.7   \n",
       "1ACC                  TOXIN           735         2.1   \n",
       "\n",
       "             structureMolecularWeight  crystallizationTempK  densityMatthews  \\\n",
       "structureId                                                                    \n",
       "1A4S                        217689.59                 287.0             2.43   \n",
       "1A6Q                         42707.55                 277.0             2.97   \n",
       "1A72                         40658.50                 277.0             2.30   \n",
       "1A8O                          8175.72                 277.0             2.21   \n",
       "1ACC                         82849.97                 277.0             2.30   \n",
       "\n",
       "             densityPercentSol  phValue  \\\n",
       "structureId                               \n",
       "1A4S                     41.00      7.5   \n",
       "1A6Q                     59.00      5.0   \n",
       "1A72                     46.82      8.4   \n",
       "1A8O                     43.80      8.0   \n",
       "1ACC                     47.00      6.0   \n",
       "\n",
       "                                                      sequence  \\\n",
       "structureId                                                      \n",
       "1A4S         AQLVDSMPSASTGSVVVTDDLNYWGGRRIKSKDGATTEPVFEPATG...   \n",
       "1A6Q         MGAFLDKPKMEKHNAQGQGNGLRYGLSSMQGWRVEMEDAHTAVIGL...   \n",
       "1A72         STAGKVIKCKAAVLWEEKKPFSIEEVEVAPPKAHEVRIKMVATGIC...   \n",
       "1A8O         MDIRQGPKEPFRDYVDRFYKTLRAEQASQEVKNWMTETLLVQNANP...   \n",
       "1ACC         EVKQENRLLNESESSSQGLLGYYFSDLNFQAPMVVTSSTTGDLSIP...   \n",
       "\n",
       "                                                         3mers  \n",
       "structureId                                                     \n",
       "1A4S         [AQL, LVD, DSM, MPS, SAS, STG, GSV, VVV, VTD, ...  \n",
       "1A6Q         [MGA, AFL, LDK, KPK, KME, EKH, HNA, AQG, GQG, ...  \n",
       "1A72         [STA, AGK, KVI, IKC, CKA, AAV, VLW, WEE, EKK, ...  \n",
       "1A8O         [MDI, IRQ, QGP, PKE, EPF, FRD, DYV, VDR, RFY, ...  \n",
       "1ACC         [EVK, KQE, ENR, RLL, LNE, ESE, ESS, SSQ, QGL, ...  "
      ]
     },
     "execution_count": 24,
     "metadata": {},
     "output_type": "execute_result"
    }
   ],
   "source": [
    "data.head()"
   ]
  },
  {
   "cell_type": "code",
   "execution_count": 25,
   "id": "a817b595-5736-4516-bcbe-5feff511fca4",
   "metadata": {},
   "outputs": [
    {
     "data": {
      "text/plain": [
       "<Axes: ylabel='classification'>"
      ]
     },
     "execution_count": 25,
     "metadata": {},
     "output_type": "execute_result"
    },
    {
     "data": {
      "image/png": "[encoded data removed]",
      "text/plain": [
       "<Figure size 640x480 with 1 Axes>"
      ]
     },
     "metadata": {},
     "output_type": "display_data"
    }
   ],
   "source": [
    "data['classification'].value_counts().plot(kind='barh')"
   ]
  },
  {
   "cell_type": "code",
   "execution_count": 26,
   "id": "60e0f550-dfa1-4d41-b5f2-89004e2790ef",
   "metadata": {},
   "outputs": [
    {
     "data": {
      "text/plain": [
       "32"
      ]
     },
     "execution_count": 26,
     "metadata": {},
     "output_type": "execute_result"
    }
   ],
   "source": [
    "len(data['classification'].value_counts())"
   ]
  },
  {
   "cell_type": "code",
   "execution_count": 27,
   "id": "5309f294-d67e-4ad9-a1d2-2a7fa87392a1",
   "metadata": {},
   "outputs": [
    {
     "data": {
      "text/plain": [
       "46422"
      ]
     },
     "execution_count": 27,
     "metadata": {},
     "output_type": "execute_result"
    }
   ],
   "source": [
    "len(data)"
   ]
  },
  {
   "cell_type": "code",
   "execution_count": 28,
   "id": "0c2e0b2e-7bb4-4e8b-bd7b-22c634bf5d6b",
   "metadata": {},
   "outputs": [
    {
     "data": {
      "text/plain": [
       "Index(['HYDROLASE', 'TRANSFERASE', 'OXIDOREDUCTASE', 'IMMUNE SYSTEM'], dtype='object', name='classification')"
      ]
     },
     "execution_count": 28,
     "metadata": {},
     "output_type": "execute_result"
    }
   ],
   "source": [
    "top_classes = data['classification'].value_counts().nlargest(4).index\n",
    "top_classes"
   ]
  },
  {
   "cell_type": "code",
   "execution_count": 29,
   "id": "b64e8f27-4add-4f36-a39c-028a5a24d302",
   "metadata": {},
   "outputs": [
    {
     "data": {
      "text/plain": [
       "<Axes: ylabel='classification'>"
      ]
     },
     "execution_count": 29,
     "metadata": {},
     "output_type": "execute_result"
    },
    {
     "data": {
      "image/png": "[encoded data removed]",
      "text/plain": [
       "<Figure size 640x480 with 1 Axes>"
      ]
     },
     "metadata": {},
     "output_type": "display_data"
    }
   ],
   "source": [
    "data_top8 = data[data['classification'].isin(top_classes)]\n",
    "data_top8['classification'].value_counts().plot(kind='barh')"
   ]
  },
  {
   "cell_type": "code",
   "execution_count": 30,
   "id": "a19bc199-3e89-4c6f-9de0-823aaacba740",
   "metadata": {},
   "outputs": [
    {
     "data": {
      "text/plain": [
       "<Axes: ylabel='classification'>"
      ]
     },
     "execution_count": 30,
     "metadata": {},
     "output_type": "execute_result"
    },
    {
     "data": {
      "image/png": "[encoded data removed]",
      "text/plain": [
       "<Figure size 640x480 with 1 Axes>"
      ]
     },
     "metadata": {},
     "output_type": "display_data"
    }
   ],
   "source": [
    "from imblearn.over_sampling import RandomOverSampler\n",
    "\n",
    "X = data_top8.drop(columns=['classification'])\n",
    "y = data_top8['classification']\n",
    "\n",
    "ros = RandomOverSampler(random_state=42)\n",
    "\n",
    "X_resampled, y_resampled = ros.fit_resample(X, y)\n",
    "\n",
    "data_balanced = X_resampled.copy()\n",
    "data_balanced['classification'] = y_resampled\n",
    "\n",
    "data_balanced['classification'].value_counts().plot(kind='barh')"
   ]
  },
  {
   "cell_type": "code",
   "execution_count": 31,
   "id": "ed4e6fa3-59c9-4d37-a090-db4d42201786",
   "metadata": {},
   "outputs": [
    {
     "data": {
      "text/plain": [
       "33864"
      ]
     },
     "execution_count": 31,
     "metadata": {},
     "output_type": "execute_result"
    }
   ],
   "source": [
    "len(data_balanced)"
   ]
  },
  {
   "cell_type": "code",
   "execution_count": 32,
   "id": "beb6a980-07e1-48d0-bbab-ea00a02a55b4",
   "metadata": {},
   "outputs": [
    {
     "data": {
      "text/plain": [
       "4"
      ]
     },
     "execution_count": 32,
     "metadata": {},
     "output_type": "execute_result"
    }
   ],
   "source": [
    "len(data_balanced['classification'].value_counts())"
   ]
  },
  {
   "cell_type": "code",
   "execution_count": 33,
   "id": "4e09b537-aea7-4564-a420-f2105b2bb8e2",
   "metadata": {},
   "outputs": [],
   "source": [
    "pd.DataFrame({\n",
    "    'sequence': data_balanced['sequence'],\n",
    "    'classification': data_balanced['classification']\n",
    "}).to_csv('./data/protein_data.csv', index=False)"
   ]
  },
  {
   "cell_type": "code",
   "execution_count": null,
   "id": "f3dc2aac-0fd0-436e-8e23-f3081a768a6e",
   "metadata": {},
   "outputs": [],
   "source": []
  }
 ],
 "metadata": {
  "kernelspec": {
   "display_name": "Python 3 (ipykernel)",
   "language": "python",
   "name": "python3"
  },
  "language_info": {
   "codemirror_mode": {
    "name": "ipython",
    "version": 3
   },
   "file_extension": ".py",
   "mimetype": "text/x-python",
   "name": "python",
   "nbconvert_exporter": "python",
   "pygments_lexer": "ipython3",
   "version": "3.10.18"
  }
 },
 "nbformat": 4,
 "nbformat_minor": 5
}
